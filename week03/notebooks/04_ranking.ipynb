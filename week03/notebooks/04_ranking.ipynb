{
 "cells": [
  {
   "cell_type": "markdown",
   "id": "79a53fcc41f692bf",
   "metadata": {
    "collapsed": false
   },
   "source": [
    "# Exploring Ranking Models in Information Retrieval\n",
    "\n",
    "## Objective\n",
    "Understand the practical implementation and differences between the Vector Space Model and the Binary Independence Model in ranking documents relative to a user query."
   ]
  },
  {
   "cell_type": "markdown",
   "id": "c965f8d120975418",
   "metadata": {
    "collapsed": false
   },
   "source": [
    "### Step 1: Data Preprocessing\n",
    "\n",
    "Ensure that the documents are still loaded and preprocessed from the previous task. The data should be clean and ready for advanced querying.\n",
    "Write a function to load and preprocess the text documents from a specified directory. This step involves reading each file, converting the text to lowercase for uniform processing, and storing the results in a dictionary."
   ]
  },
  {
   "cell_type": "code",
   "execution_count": 85,
   "id": "6a8e404d",
   "metadata": {},
   "outputs": [
    {
     "name": "stdout",
     "output_type": "stream",
     "text": [
      "Requirement already satisfied: beautifulsoup4 in c:\\python312\\lib\\site-packages (4.12.3)\n",
      "Requirement already satisfied: soupsieve>1.2 in c:\\python312\\lib\\site-packages (from beautifulsoup4) (2.5)\n",
      "Requirement already satisfied: requests in c:\\python312\\lib\\site-packages (2.31.0)\n",
      "Requirement already satisfied: charset-normalizer<4,>=2 in c:\\python312\\lib\\site-packages (from requests) (3.3.2)\n",
      "Requirement already satisfied: idna<4,>=2.5 in c:\\python312\\lib\\site-packages (from requests) (3.7)\n",
      "Requirement already satisfied: urllib3<3,>=1.21.1 in c:\\python312\\lib\\site-packages (from requests) (2.2.1)\n",
      "Requirement already satisfied: certifi>=2017.4.17 in c:\\python312\\lib\\site-packages (from requests) (2024.2.2)\n"
     ]
    }
   ],
   "source": [
    "!pip install beautifulsoup4\n",
    "!pip install requests"
   ]
  },
  {
   "cell_type": "code",
   "execution_count": 86,
   "id": "a185456ec7a7c810",
   "metadata": {
    "ExecuteTime": {
     "end_time": "2024-05-07T13:18:16.854511Z",
     "start_time": "2024-05-07T13:18:14.438393Z"
    },
    "collapsed": false
   },
   "outputs": [],
   "source": [
    "import os\n",
    "import time\n",
    "import requests\n",
    "import re\n",
    "from collections import defaultdict\n",
    "from bs4 import BeautifulSoup\n",
    "import operator\n",
    "\n",
    "regExpresion = r'[^0-9a-zA-Z\\s]+'\n",
    "names_file_name = 'libros_nombres.txt'\n",
    "\n",
    "inverted_index = {}\n",
    "matriz_booleana = []\n",
    "matriz_pesos = []\n",
    "libros = []\n",
    "\n",
    "# Define the path to the directory containing the text files\n",
    "books_folder = 'week01'\n",
    "CORPUS_DIR = 'data'\n",
    "book_list = 'notebooks'\n",
    "\n",
    "def load_book_names():\n",
    "    wrkDir = os.getcwd()\n",
    "    wrkDir = os.path.join(wrkDir, os.pardir, os.pardir, books_folder, book_list)\n",
    "    wrkDir = os.path.abspath(wrkDir)\n",
    "    names_file_path = os.path.join(wrkDir, names_file_name)\n",
    "    names_file_path = os.path.abspath(names_file_path)\n",
    "    with open(names_file_path, 'r', encoding='utf-8') as f:\n",
    "        return f.readlines()"
   ]
  },
  {
   "cell_type": "code",
   "execution_count": 87,
   "id": "f8724f69",
   "metadata": {},
   "outputs": [],
   "source": [
    "def obtener_indice_invertido():\n",
    "    print(\"Obteniendo índice invertido...\")\n",
    "    \n",
    "    global libros\n",
    "    for libro_id, libro in enumerate(libros):\n",
    "        file = os.getcwd()\n",
    "        file = os.path.join(file, os.pardir, os.pardir, books_folder, CORPUS_DIR, libro.strip())\n",
    "        file = os.path.abspath(file)\n",
    "\n",
    "        try:\n",
    "            with open(file, 'r', encoding='utf-8') as f:\n",
    "                content = f.read()\n",
    "                content = re.sub(regExpresion, '', content)\n",
    "                content = content.lower()\n",
    "                words = content.split()\n",
    "                for word in words:\n",
    "                    global inverted_index\n",
    "                    if word not in inverted_index:\n",
    "                        inverted_index[word] = set()\n",
    "                    inverted_index[word].add(libro_id)\n",
    "        except:\n",
    "            print(f\"Error al abrir el archivo {file}. No existe o no se puede leer.\")\n",
    "            continue\n",
    "    pass"
   ]
  },
  {
   "cell_type": "code",
   "execution_count": 88,
   "id": "245c3aab",
   "metadata": {},
   "outputs": [],
   "source": [
    "def obtener_matriz_booleana(tokens, cols):\n",
    "    global matriz_booleana\n",
    "    matriz_booleana = []\n",
    "\n",
    "    for i, token in enumerate(tokens):\n",
    "        tmp_row = [False for _ in range(cols)]\n",
    "        if token in inverted_index:\n",
    "            for j in inverted_index[token]:\n",
    "                tmp_row[j] = True\n",
    "        matriz_booleana.append(tmp_row)\n",
    "\n",
    "    print(matriz_booleana)\n",
    "    pass"
   ]
  },
  {
   "cell_type": "markdown",
   "id": "f3064ebb2dba4d47",
   "metadata": {
    "collapsed": false
   },
   "source": [
    "### Step 2:  Vector Space Model (VSM)\n",
    "\n",
    "Task: Implement a simple Vector Space Model using term frequency.\n",
    "\n",
    "Requirements:\n",
    "* _Document and Query Representation:_ Convert each document and the query into a vector where each dimension corresponds to a term from the corpus. Use simple term frequency for weighting.\n",
    "* _Cosine Similarity Calculation:_ Calculate the cosine similarity between the query vector and each document vector.\n",
    "* _Ranking:_ Rank the documents based on their cosine similarity scores from highest to lowest."
   ]
  },
  {
   "cell_type": "code",
   "execution_count": 121,
   "id": "8f364cd7",
   "metadata": {},
   "outputs": [],
   "source": [
    "\n",
    "def rankearLibroUniGrama(book, token):\n",
    "    file = os.getcwd()\n",
    "    file = os.path.join(file, os.pardir, os.pardir, books_folder, CORPUS_DIR, book.strip())\n",
    "    file = os.path.abspath(file)\n",
    "\n",
    "    try:\n",
    "        with open(file, 'r', encoding='utf-8') as f:\n",
    "            content = f.read()\n",
    "            content = re.sub(regExpresion, '', content)\n",
    "            words = content.split()\n",
    "            count = words.count(token)\n",
    "            return count\n",
    "    except:\n",
    "        print(f\"Error al abrir el archivo {file}. No existe o no se puede leer.\")\n",
    "        return 0\n",
    "    pass\n",
    "\n",
    "def obtener_matriz_rankeada(tokens):\n",
    "    global libros\n",
    "    global matriz_pesos\n",
    "    global matriz_booleana\n",
    "\n",
    "    matriz_pesos = [[0 for _ in range(len(libros))] for _ in range(len(tokens))]\n",
    "\n",
    "    print(\"matriz booleana: \", matriz_booleana)\n",
    "\n",
    "    for i, token in enumerate(tokens):\n",
    "        for j, book in enumerate(libros):\n",
    "            if matriz_booleana[i][j]:\n",
    "                matriz_pesos[i][j] = rankearLibroUniGrama(book, token)\n",
    "\n",
    "    print(\"matriz pesos: \", matriz_pesos)\n",
    "\n",
    "    pass"
   ]
  },
  {
   "cell_type": "code",
   "execution_count": 96,
   "id": "2a8b8163",
   "metadata": {},
   "outputs": [],
   "source": [
    "def busqueda_matricial_con_operadores():\n",
    "    print(\"Realizando búsqueda matricial con operadores...\")\n",
    "    print(\"ingrese las palabras a buscar separadas por espacios junto los operadores AND, OR, NOT (recuerde que NOT debe precederse con un OR o un AND)\")\n",
    "    \n",
    "    query = input(\"Ingrese la expresion a buscar (ej: juan and pedro or not zapato): \")\n",
    "    query = query.lower()\n",
    "    query = re.sub(r'[^\\w\\s]', '', query)\n",
    "    tokens = re.findall(r'\\b(?!and\\b|or\\b|not\\b)\\w+\\b', query)\n",
    "    content = re.findall(r'\\b\\w+\\b|[()]|[and|or|not]+', query)\n",
    "\n",
    "    global libros\n",
    "    cols = len(libros)\n",
    "    rows = len(tokens)\n",
    "\n",
    "    obtener_matriz_booleana(tokens, cols)\n",
    "\n",
    "    obtener_matriz_rankeada(tokens)\n",
    "\n",
    "    global matriz_booleana\n",
    "\n",
    "    found_books = []\n",
    "\n",
    "    for i in range(cols):\n",
    "        token_names = tokens\n",
    "        token_values = [matriz_booleana[j][i] for j in range(rows)]\n",
    "\n",
    "        token_map = {name: value for name, value in zip(token_names, token_values)}\n",
    "        content_temp = [token_map.get(token, token) for token in content]\n",
    "\n",
    "        expression = ' '.join(map(str, content_temp))\n",
    "        result = eval(expression)\n",
    "        if result:\n",
    "            tpm_name = libros[i]\n",
    "            tpm_name = tpm_name.rstrip(\"\\n\")\n",
    "            found_books.append(tpm_name)\n",
    "\n",
    "    print(\"Los libros que cumplen con la expresión son:\", found_books)\n",
    "\n",
    "    return found_books"
   ]
  },
  {
   "cell_type": "markdown",
   "id": "3d15c14078fe119f",
   "metadata": {
    "collapsed": false
   },
   "source": [
    "### Step 3: Binary Independence Model (BIM)\n",
    "\n",
    "Task: Implement a basic Binary Independence Model to rank documents.\n",
    "\n",
    "Requirements:\n",
    "* _Binary Representation:_ Represent the corpus and the query in binary vectors (1 if the term is present, 0 otherwise).\n",
    "* _Probability Estimation:_ Assume arbitrary probabilities for the presence of each term in relevant and non-relevant documents.\n",
    "* _Relevance Scoring:_ Calculate the relevance score for each document based on the product of probabilities for terms present in the query.\n",
    "* _Ranking:_ Rank the documents based on their relevance scores from highest to lowest."
   ]
  },
  {
   "cell_type": "code",
   "execution_count": 122,
   "id": "1db001ab",
   "metadata": {},
   "outputs": [
    {
     "name": "stdout",
     "output_type": "stream",
     "text": [
      "Obteniendo índice invertido...\n",
      "Error al abrir el archivo c:\\Users\\AlexanderSaavedra\\Documents\\Repositorio_Politecnica\\RI\\Codigo\\ir24a\\week01\\data\\Spoon River Anthology.txt. No existe o no se puede leer.\n",
      "Error al abrir el archivo c:\\Users\\AlexanderSaavedra\\Documents\\Repositorio_Politecnica\\RI\\Codigo\\ir24a\\week01\\data\\Tractatus LogicoPhilosophicus.txt. No existe o no se puede leer.\n",
      "Error al abrir el archivo c:\\Users\\AlexanderSaavedra\\Documents\\Repositorio_Politecnica\\RI\\Codigo\\ir24a\\week01\\data\\Calculus Made Easy.txt. No existe o no se puede leer.\n",
      "Realizando búsqueda matricial con operadores...\n",
      "ingrese las palabras a buscar separadas por espacios junto los operadores AND, OR, NOT (recuerde que NOT debe precederse con un OR o un AND)\n",
      "[[False, False, False, False, False, False, True, False, False, False, False, False, False, False, False, True, False, False, False, False, False, False, False, False, False, False, False, False, False, False, False, False, False, False, False, False, False, False, True, False, False, True, False, True, True, False, False, False, False, False, False, False, False, True, False, True, True, False, False, False, False, False, False, False, False, False, False, False, False, False, False, False, False, False, False, True, False, False, False, False, False, False, False, False, False, False, False, False, False, False, False, False, False, False, False, False, False, False, False, False]]\n",
      "matriz booleana:  [[False, False, False, False, False, False, True, False, False, False, False, False, False, False, False, True, False, False, False, False, False, False, False, False, False, False, False, False, False, False, False, False, False, False, False, False, False, False, True, False, False, True, False, True, True, False, False, False, False, False, False, False, False, True, False, True, True, False, False, False, False, False, False, False, False, False, False, False, False, False, False, False, False, False, False, True, False, False, False, False, False, False, False, False, False, False, False, False, False, False, False, False, False, False, False, False, False, False, False, False]]\n",
      "matriz pesos:  [[0, 0, 0, 0, 0, 0, 2, 0, 0, 0, 0, 0, 0, 0, 0, 1, 0, 0, 0, 0, 0, 0, 0, 0, 0, 0, 0, 0, 0, 0, 0, 0, 0, 0, 0, 0, 0, 0, 115, 0, 0, 24, 0, 2602, 2, 0, 0, 0, 0, 0, 0, 0, 0, 1, 0, 1, 1, 0, 0, 0, 0, 0, 0, 0, 0, 0, 0, 0, 0, 0, 0, 0, 0, 0, 0, 1, 0, 0, 0, 0, 0, 0, 0, 0, 0, 0, 0, 0, 0, 0, 0, 0, 0, 0, 0, 0, 0, 0, 0, 0]]\n",
      "Los libros que cumplen con la expresión son: ['The Complete Works of William Shakespeare.txt', 'History of Tom Jones a Foundling.txt', 'Noli Me Tangere.txt', 'Ang Filibusterismo Karugtng ng Noli Me Tangere.txt', 'Don Quijote.txt', 'Ulysses.txt', 'War and Peace.txt', 'The Adventures of Tom Sawyer Complete.txt', 'Walden and On The Duty Of Civil Disobedience.txt', 'Meditations.txt']\n"
     ]
    }
   ],
   "source": [
    "\n",
    "global libros\n",
    "libros = load_book_names()\n",
    "\n",
    "obtener_indice_invertido()\n",
    "\n",
    "found_books = busqueda_matricial_con_operadores()\n"
   ]
  }
 ],
 "metadata": {
  "kernelspec": {
   "display_name": "Python 3",
   "language": "python",
   "name": "python3"
  },
  "language_info": {
   "codemirror_mode": {
    "name": "ipython",
    "version": 3
   },
   "file_extension": ".py",
   "mimetype": "text/x-python",
   "name": "python",
   "nbconvert_exporter": "python",
   "pygments_lexer": "ipython3",
   "version": "3.12.2"
  }
 },
 "nbformat": 4,
 "nbformat_minor": 5
}
